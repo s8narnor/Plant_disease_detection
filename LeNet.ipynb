{
  "nbformat": 4,
  "nbformat_minor": 0,
  "metadata": {
    "colab": {
      "name": "LeNet.ipynb",
      "provenance": [],
      "authorship_tag": "ABX9TyOwRevRCM2Lwg//Hm5v2DXP",
      "include_colab_link": true
    },
    "kernelspec": {
      "name": "python3",
      "display_name": "Python 3"
    },
    "accelerator": "GPU"
  },
  "cells": [
    {
      "cell_type": "markdown",
      "metadata": {
        "id": "view-in-github",
        "colab_type": "text"
      },
      "source": [
        "<a href=\"https://colab.research.google.com/github/s8narnor/python-random-quote/blob/master/LeNet.ipynb\" target=\"_parent\"><img src=\"https://colab.research.google.com/assets/colab-badge.svg\" alt=\"Open In Colab\"/></a>"
      ]
    },
    {
      "cell_type": "code",
      "metadata": {
        "id": "X3aQdWwL9mCI",
        "colab_type": "code",
        "colab": {
          "base_uri": "https://localhost:8080/",
          "height": 121
        },
        "outputId": "d20187dd-8440-433f-b7a2-0af99ff70807"
      },
      "source": [
        "from google.colab import drive\n",
        "drive.mount('/content/drive')"
      ],
      "execution_count": 1,
      "outputs": [
        {
          "output_type": "stream",
          "text": [
            "Go to this URL in a browser: https://accounts.google.com/o/oauth2/auth?client_id=947318989803-6bn6qk8qdgf4n4g3pfee6491hc0brc4i.apps.googleusercontent.com&redirect_uri=urn%3aietf%3awg%3aoauth%3a2.0%3aoob&response_type=code&scope=email%20https%3a%2f%2fwww.googleapis.com%2fauth%2fdocs.test%20https%3a%2f%2fwww.googleapis.com%2fauth%2fdrive%20https%3a%2f%2fwww.googleapis.com%2fauth%2fdrive.photos.readonly%20https%3a%2f%2fwww.googleapis.com%2fauth%2fpeopleapi.readonly\n",
            "\n",
            "Enter your authorization code:\n",
            "··········\n",
            "Mounted at /content/drive\n"
          ],
          "name": "stdout"
        }
      ]
    },
    {
      "cell_type": "code",
      "metadata": {
        "id": "mfBLrgeY3EbG",
        "colab_type": "code",
        "colab": {
          "base_uri": "https://localhost:8080/",
          "height": 34
        },
        "outputId": "8cc8fa5b-06e9-4168-e0bf-7bb6f850db09"
      },
      "source": [
        "import tensorflow as tf\n",
        "tf.test.gpu_device_name()"
      ],
      "execution_count": 2,
      "outputs": [
        {
          "output_type": "execute_result",
          "data": {
            "text/plain": [
              "'/device:GPU:0'"
            ]
          },
          "metadata": {
            "tags": []
          },
          "execution_count": 2
        }
      ]
    },
    {
      "cell_type": "code",
      "metadata": {
        "id": "NOhwjkNo3VSQ",
        "colab_type": "code",
        "colab": {}
      },
      "source": [
        "!pip install -q keras"
      ],
      "execution_count": 3,
      "outputs": []
    },
    {
      "cell_type": "code",
      "metadata": {
        "id": "hWtnNn4U3VXx",
        "colab_type": "code",
        "colab": {
          "base_uri": "https://localhost:8080/",
          "height": 34
        },
        "outputId": "07d5065b-6f81-4250-e26c-e1ae9e3bf34c"
      },
      "source": [
        "import keras\n",
        "from keras.models import *\n",
        "from keras.layers import *\n",
        "from keras.optimizers import *\n",
        "from keras.preprocessing.image import ImageDataGenerator"
      ],
      "execution_count": 4,
      "outputs": [
        {
          "output_type": "stream",
          "text": [
            "Using TensorFlow backend.\n"
          ],
          "name": "stderr"
        }
      ]
    },
    {
      "cell_type": "code",
      "metadata": {
        "id": "zE_Yqmcj3EeH",
        "colab_type": "code",
        "colab": {}
      },
      "source": [
        "img_width, img_height = 32,32\n",
        "train_data_dir = '/content/drive/My Drive/PlantVillage'\n",
        "validation_data_dir = '/content/drive/My Drive/PlantVillage'\n",
        "batch_size = 32"
      ],
      "execution_count": 25,
      "outputs": []
    },
    {
      "cell_type": "code",
      "metadata": {
        "id": "BiY5VgPk3Eg8",
        "colab_type": "code",
        "colab": {
          "base_uri": "https://localhost:8080/",
          "height": 50
        },
        "outputId": "b0ce50c0-65f1-477f-ef1c-04cf8da4a0a3"
      },
      "source": [
        "datagen = ImageDataGenerator(\n",
        "    rescale =1./255,\n",
        "    shear_range = 0.2,\n",
        "    zoom_range = 0.2,\n",
        "    horizontal_flip = True,\n",
        "    rotation_range = 20,\n",
        "    width_shift_range = 0.2,\n",
        "    height_shift_range = 0.2,\n",
        "    validation_split = 0.3)\n",
        "\n",
        "train_generator = datagen.flow_from_directory(\n",
        "    train_data_dir,\n",
        "    target_size = (img_width, img_height),\n",
        "    batch_size = batch_size,\n",
        "    subset = \"training\",\n",
        "    class_mode = 'categorical')\n",
        "\n",
        "val_datagen =ImageDataGenerator(rescale = 1./255)\n",
        "\n",
        "validation_generator = datagen.flow_from_directory(\n",
        "    validation_data_dir,\n",
        "    target_size = (img_width, img_height),\n",
        "    batch_size = batch_size,\n",
        "    subset = \"validation\",\n",
        "    class_mode = 'categorical')"
      ],
      "execution_count": 26,
      "outputs": [
        {
          "output_type": "stream",
          "text": [
            "Found 14458 images belonging to 15 classes.\n",
            "Found 6189 images belonging to 15 classes.\n"
          ],
          "name": "stdout"
        }
      ]
    },
    {
      "cell_type": "code",
      "metadata": {
        "id": "HXDPq7LB3EkC",
        "colab_type": "code",
        "colab": {
          "base_uri": "https://localhost:8080/",
          "height": 437
        },
        "outputId": "9c08e25c-ab08-440a-aeea-b567edfee88d"
      },
      "source": [
        "from keras import layers\n",
        "from keras.models import Model\n",
        "\n",
        "def lenet_5(in_shape=(32,32,3), n_classes=15, opt='sgd'):\n",
        "    in_layer = layers.Input(in_shape)\n",
        "    conv1 = layers.Conv2D(filters=20, kernel_size=5,\n",
        "                          padding='same', activation='relu')(in_layer)\n",
        "    pool1 = layers.MaxPool2D()(conv1)\n",
        "    conv2 = layers.Conv2D(filters=50, kernel_size=5,\n",
        "                          padding='same', activation='relu')(pool1)\n",
        "    pool2 = layers.MaxPool2D()(conv2)\n",
        "    flatten = layers.Flatten()(pool2)\n",
        "    dense1 = layers.Dense(500, activation='relu')(flatten)\n",
        "    preds = layers.Dense(n_classes, activation='softmax')(dense1)\n",
        "\n",
        "    model = Model(in_layer, preds)\n",
        "    model.compile(loss=\"categorical_crossentropy\", optimizer=opt,\n",
        "\t              metrics=[\"accuracy\"])\n",
        "    return model\n",
        "\n",
        "if __name__ == '__main__':\n",
        "    model = lenet_5()\n",
        "    print(model.summary())"
      ],
      "execution_count": 27,
      "outputs": [
        {
          "output_type": "stream",
          "text": [
            "Model: \"model_5\"\n",
            "_________________________________________________________________\n",
            "Layer (type)                 Output Shape              Param #   \n",
            "=================================================================\n",
            "input_5 (InputLayer)         (None, 32, 32, 3)         0         \n",
            "_________________________________________________________________\n",
            "conv2d_9 (Conv2D)            (None, 32, 32, 20)        1520      \n",
            "_________________________________________________________________\n",
            "max_pooling2d_9 (MaxPooling2 (None, 16, 16, 20)        0         \n",
            "_________________________________________________________________\n",
            "conv2d_10 (Conv2D)           (None, 16, 16, 50)        25050     \n",
            "_________________________________________________________________\n",
            "max_pooling2d_10 (MaxPooling (None, 8, 8, 50)          0         \n",
            "_________________________________________________________________\n",
            "flatten_5 (Flatten)          (None, 3200)              0         \n",
            "_________________________________________________________________\n",
            "dense_9 (Dense)              (None, 500)               1600500   \n",
            "_________________________________________________________________\n",
            "dense_10 (Dense)             (None, 15)                7515      \n",
            "=================================================================\n",
            "Total params: 1,634,585\n",
            "Trainable params: 1,634,585\n",
            "Non-trainable params: 0\n",
            "_________________________________________________________________\n",
            "None\n"
          ],
          "name": "stdout"
        }
      ]
    },
    {
      "cell_type": "code",
      "metadata": {
        "id": "lwgbip9b3EpY",
        "colab_type": "code",
        "colab": {}
      },
      "source": [
        "rms = keras.optimizers.RMSprop(learning_rate=0.001, rho = 0.9)\n",
        "\n",
        "model.compile(loss='categorical_crossentropy',\n",
        "optimizer='adam',\n",
        "metrics=['categorical_accuracy'])"
      ],
      "execution_count": 28,
      "outputs": []
    },
    {
      "cell_type": "code",
      "metadata": {
        "id": "pIbol7N13EuB",
        "colab_type": "code",
        "colab": {
          "base_uri": "https://localhost:8080/",
          "height": 758
        },
        "outputId": "f61c70dc-5356-41d2-c824-12c876f16448"
      },
      "source": [
        "from keras.utils import plot_model\n",
        "plot_model(model, to_file = 'model.png')"
      ],
      "execution_count": 30,
      "outputs": [
        {
          "output_type": "execute_result",
          "data": {
            "image/png": "[encoded data removed]",
            "text/plain": [
              "<IPython.core.display.Image object>"
            ]
          },
          "metadata": {
            "tags": []
          },
          "execution_count": 30
        }
      ]
    },
    {
      "cell_type": "code",
      "metadata": {
        "id": "fn0DNauv3E0u",
        "colab_type": "code",
        "colab": {
          "base_uri": "https://localhost:8080/",
          "height": 558
        },
        "outputId": "9c425686-9ca1-478a-d76c-1dd5d32fbfd3"
      },
      "source": [
        "from keras.callbacks import History\n",
        "history = History()\n",
        "model.fit_generator(\n",
        "    train_generator,\n",
        "    steps_per_epoch =50,\n",
        "    epochs =15, verbose =1, callbacks=[history],\n",
        "    validation_data=validation_generator,\n",
        "    validation_steps =40)"
      ],
      "execution_count": 32,
      "outputs": [
        {
          "output_type": "stream",
          "text": [
            "Epoch 1/15\n",
            "50/50 [==============================] - 1386s 28s/step - loss: 2.4307 - categorical_accuracy: 0.2131 - val_loss: 2.0711 - val_categorical_accuracy: 0.2547\n",
            "Epoch 2/15\n",
            "50/50 [==============================] - 1176s 24s/step - loss: 2.2436 - categorical_accuracy: 0.2775 - val_loss: 2.1456 - val_categorical_accuracy: 0.3313\n",
            "Epoch 3/15\n",
            "50/50 [==============================] - 1206s 24s/step - loss: 2.0002 - categorical_accuracy: 0.3638 - val_loss: 1.8081 - val_categorical_accuracy: 0.4656\n",
            "Epoch 4/15\n",
            "50/50 [==============================] - 1180s 24s/step - loss: 1.8372 - categorical_accuracy: 0.4106 - val_loss: 2.1992 - val_categorical_accuracy: 0.4594\n",
            "Epoch 5/15\n",
            "50/50 [==============================] - 1062s 21s/step - loss: 1.6324 - categorical_accuracy: 0.4794 - val_loss: 1.8123 - val_categorical_accuracy: 0.4988\n",
            "Epoch 6/15\n",
            "50/50 [==============================] - 654s 13s/step - loss: 1.5332 - categorical_accuracy: 0.5169 - val_loss: 1.1453 - val_categorical_accuracy: 0.5063\n",
            "Epoch 7/15\n",
            "50/50 [==============================] - 802s 16s/step - loss: 1.3832 - categorical_accuracy: 0.5602 - val_loss: 1.2689 - val_categorical_accuracy: 0.5516\n",
            "Epoch 8/15\n",
            "50/50 [==============================] - 794s 16s/step - loss: 1.3410 - categorical_accuracy: 0.5694 - val_loss: 1.4276 - val_categorical_accuracy: 0.5602\n",
            "Epoch 9/15\n",
            "50/50 [==============================] - 814s 16s/step - loss: 1.3224 - categorical_accuracy: 0.5675 - val_loss: 1.2748 - val_categorical_accuracy: 0.6055\n",
            "Epoch 10/15\n",
            "50/50 [==============================] - 33s 665ms/step - loss: 1.1656 - categorical_accuracy: 0.6125 - val_loss: 1.2791 - val_categorical_accuracy: 0.6336\n",
            "Epoch 11/15\n",
            "50/50 [==============================] - 7s 140ms/step - loss: 1.1387 - categorical_accuracy: 0.6100 - val_loss: 1.4510 - val_categorical_accuracy: 0.5828\n",
            "Epoch 12/15\n",
            "50/50 [==============================] - 7s 141ms/step - loss: 1.1757 - categorical_accuracy: 0.6087 - val_loss: 1.2811 - val_categorical_accuracy: 0.6594\n",
            "Epoch 13/15\n",
            "50/50 [==============================] - 7s 140ms/step - loss: 1.0272 - categorical_accuracy: 0.6587 - val_loss: 1.1419 - val_categorical_accuracy: 0.6320\n",
            "Epoch 14/15\n",
            "50/50 [==============================] - 7s 140ms/step - loss: 0.9987 - categorical_accuracy: 0.6787 - val_loss: 1.0599 - val_categorical_accuracy: 0.6664\n",
            "Epoch 15/15\n",
            "50/50 [==============================] - 7s 139ms/step - loss: 1.0034 - categorical_accuracy: 0.6669 - val_loss: 0.6523 - val_categorical_accuracy: 0.7010\n"
          ],
          "name": "stdout"
        },
        {
          "output_type": "execute_result",
          "data": {
            "text/plain": [
              "<keras.callbacks.callbacks.History at 0x7fcfdaae02b0>"
            ]
          },
          "metadata": {
            "tags": []
          },
          "execution_count": 32
        }
      ]
    },
    {
      "cell_type": "code",
      "metadata": {
        "id": "P9MVA3Ck6Cv1",
        "colab_type": "code",
        "colab": {
          "base_uri": "https://localhost:8080/",
          "height": 312
        },
        "outputId": "6700ed01-3ac0-4c27-aac7-bcee7ba694d0"
      },
      "source": [
        "print(history.history.keys())\n",
        "import matplotlib.pyplot as plt\n",
        "plt.plot(history.history['categorical_accuracy'],'b', label='Training accurarcy')\n",
        "plt.plot(history.history['val_categorical_accuracy'], 'r', label='Validation accurarcy')\n",
        "plt.title('model_accuracy')\n",
        "plt.xlabel('epoch')\n",
        "plt.ylabel('accuracy')\n",
        "plt.legend()\n",
        "plt.show()"
      ],
      "execution_count": 33,
      "outputs": [
        {
          "output_type": "stream",
          "text": [
            "dict_keys(['val_loss', 'val_categorical_accuracy', 'loss', 'categorical_accuracy'])\n"
          ],
          "name": "stdout"
        },
        {
          "output_type": "display_data",
          "data": {
            "image/png": "[encoded data removed]",
            "text/plain": [
              "<Figure size 432x288 with 1 Axes>"
            ]
          },
          "metadata": {
            "tags": [],
            "needs_background": "light"
          }
        }
      ]
    },
    {
      "cell_type": "code",
      "metadata": {
        "id": "JYbQ08KV6Cyd",
        "colab_type": "code",
        "colab": {
          "base_uri": "https://localhost:8080/",
          "height": 295
        },
        "outputId": "74899b5a-a53c-443a-be68-3b2614684761"
      },
      "source": [
        "plt.plot(history.history['loss'],'b', label='Training loss')\n",
        "plt.plot(history.history['val_loss'], 'r', label='Validation loss')\n",
        "plt.title('model_loss')\n",
        "plt.xlabel('epoch')\n",
        "plt.ylabel('loss')\n",
        "plt.legend()\n",
        "plt.show()"
      ],
      "execution_count": 34,
      "outputs": [
        {
          "output_type": "display_data",
          "data": {
            "image/png": "[encoded data removed]",
            "text/plain": [
              "<Figure size 432x288 with 1 Axes>"
            ]
          },
          "metadata": {
            "tags": [],
            "needs_background": "light"
          }
        }
      ]
    },
    {
      "cell_type": "code",
      "metadata": {
        "id": "MkI1g_gn17PU",
        "colab_type": "code",
        "colab": {}
      },
      "source": [
        "model.save('LeNetKc.h5')"
      ],
      "execution_count": 36,
      "outputs": []
    },
    {
      "cell_type": "code",
      "metadata": {
        "id": "tifgbAxO6DL5",
        "colab_type": "code",
        "colab": {}
      },
      "source": [
        "import numpy as np\n",
        "from google.colab import files\n",
        "from keras.preprocessing import image\n",
        "\n",
        "uploaded = files.upload()\n",
        "\n",
        "for fn in uploaded.keys():\n",
        " \n",
        "  # predicting images\n",
        "  path = fn\n",
        "  img = image.load_img(path, target_size=(150, 150))\n",
        "  x = image.img_to_array(img)\n",
        "  x = np.expand_dims(x, axis=0)\n",
        "\n",
        "  images = np.vstack([x])\n",
        "  classes = model.predict(images, batch_size=10)\n",
        "  print(fn)\n",
        "  print(classes)"
      ],
      "execution_count": null,
      "outputs": []
    }
  ]
}